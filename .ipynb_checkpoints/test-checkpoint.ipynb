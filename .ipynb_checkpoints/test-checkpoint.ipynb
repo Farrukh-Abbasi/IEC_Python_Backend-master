{
 "cells": [
  {
   "cell_type": "code",
   "execution_count": 1,
   "id": "666fbf6b",
   "metadata": {},
   "outputs": [
    {
     "name": "stderr",
     "output_type": "stream",
     "text": [
      "/home/ady/miniconda3/lib/python3.9/site-packages/flask_sqlalchemy/__init__.py:872: FSADeprecationWarning: SQLALCHEMY_TRACK_MODIFICATIONS adds significant overhead and will be disabled by default in the future.  Set it to True or False to suppress this warning.\n",
      "  warnings.warn(FSADeprecationWarning(\n"
     ]
    }
   ],
   "source": [
    "from flask import jsonify\n",
    "from api.services import *\n",
    "from api import app\n",
    "from api import db\n",
    "from api.models import User, StudentTable, Cohorts, Bootcamp\n",
    "from api.auth_routes import *\n",
    "from api.scan_text_route import *\n",
    "from api.studentRoutes import *\n",
    "from api.certificateRoutes import *"
   ]
  },
  {
   "cell_type": "code",
   "execution_count": 2,
   "id": "a7c66151",
   "metadata": {},
   "outputs": [],
   "source": [
    "import socket\n",
    "import threading\n",
    "import uuid\n",
    "from typing import Any, Callable, cast, Optional\n",
    "\n",
    "from flask import Flask, abort, jsonify\n",
    "from flask_cors import cross_origin\n",
    "from werkzeug.serving import run_simple"
   ]
  },
  {
   "cell_type": "code",
   "execution_count": 5,
   "id": "f0303e2d",
   "metadata": {},
   "outputs": [
    {
     "name": "stderr",
     "output_type": "stream",
     "text": [
      " * Running on http://localhost:42649/ (Press CTRL+C to quit)\n",
      "127.0.0.1 - - [16/Jun/2022 00:55:52] \"GET / HTTP/1.1\" 404 -\n",
      "127.0.0.1 - - [16/Jun/2022 00:55:54] \"GET /favicon.ico HTTP/1.1\" 404 -\n"
     ]
    }
   ],
   "source": [
    "_data = {}\n",
    "\n",
    "_port: int = 0\n",
    "\n",
    "\n",
    "def register_data(f: Callable[[], Any], id: Optional[str] = None) -> str:\n",
    "    \"\"\"Sets a callback for data and returns a URL\"\"\"\n",
    "    _start_sever()\n",
    "    id = id or str(uuid.uuid4())\n",
    "    _data[id] = f\n",
    "    return f'http://localhost:{_port}/data/{id}'\n",
    "\n",
    "\n",
    "def _init_port() -> int:\n",
    "    \"\"\"Creates a random free port.\"\"\"\n",
    "    # see https://stackoverflow.com/a/5089963/2297345\n",
    "    sock = socket.socket(socket.AF_INET, socket.SOCK_STREAM)\n",
    "    sock.bind(('localhost', 0))\n",
    "\n",
    "    port = sock.getsockname()[1]\n",
    "    sock.close()\n",
    "    return cast(int, port)\n",
    "\n",
    "\n",
    "def _start_sever() -> None:\n",
    "    \"\"\"Starts a flask server in the background.\"\"\"\n",
    "    global _port\n",
    "    if _port:\n",
    "        return\n",
    "    _port = _init_port()\n",
    "    thread = threading.Thread(target=lambda: run_simple('localhost', _port, app))\n",
    "    thread.start()\n",
    "    \n",
    "_start_sever()"
   ]
  },
  {
   "cell_type": "code",
   "execution_count": null,
   "id": "93cec76e",
   "metadata": {},
   "outputs": [],
   "source": []
  }
 ],
 "metadata": {
  "kernelspec": {
   "display_name": "Python 3 (ipykernel)",
   "language": "python",
   "name": "python3"
  },
  "language_info": {
   "codemirror_mode": {
    "name": "ipython",
    "version": 3
   },
   "file_extension": ".py",
   "mimetype": "text/x-python",
   "name": "python",
   "nbconvert_exporter": "python",
   "pygments_lexer": "ipython3",
   "version": "3.9.5"
  }
 },
 "nbformat": 4,
 "nbformat_minor": 5
}
